{
    "cells": [
        {
            "cell_type": "code",
            "execution_count": 1,
            "source": [
                "import pymongo\n",
                "\n",
                "client = pymongo.MongoClient('localhost', 27017)\n",
                "db = client.test\n",
                "print(db)"
            ],
            "outputs": [
                {
                    "output_type": "stream",
                    "name": "stdout",
                    "text": [
                        "Database(MongoClient(host=['localhost:27017'], document_class=dict, tz_aware=False, connect=True), 'test')\n"
                    ]
                }
            ],
            "metadata": {}
        },
        {
            "cell_type": "code",
            "execution_count": 2,
            "source": [
                "collection = db.logins\n",
                "print(collection)"
            ],
            "outputs": [
                {
                    "output_type": "stream",
                    "name": "stdout",
                    "text": [
                        "Collection(Database(MongoClient(host=['localhost:27017'], document_class=dict, tz_aware=False, connect=True), 'test'), 'logins')\n"
                    ]
                }
            ],
            "metadata": {}
        },
        {
            "cell_type": "code",
            "execution_count": 10,
            "source": [
                "collection.drop()"
            ],
            "outputs": [],
            "metadata": {}
        },
        {
            "cell_type": "code",
            "execution_count": 17,
            "source": [
                "collection.update_one({\"username\": \"john doe\"}, {\"$set\": {\"username\": \"john doe\", \"password\": \"hashedpass2\"}}, upsert=True)\n",
                "for doc in collection.find({\"username\": \"john doe\"}):\n",
                "    print(doc)"
            ],
            "outputs": [
                {
                    "output_type": "stream",
                    "name": "stdout",
                    "text": [
                        "{'_id': ObjectId('611b23d7c2a60fe9e0a2b694'), 'username': 'john doe', 'password': 'hashedpass2'}\n"
                    ]
                }
            ],
            "metadata": {}
        }
    ],
    "metadata": {
        "orig_nbformat": 4,
        "language_info": {
            "name": "python",
            "version": "3.9.5",
            "mimetype": "text/x-python",
            "codemirror_mode": {
                "name": "ipython",
                "version": 3
            },
            "pygments_lexer": "ipython3",
            "nbconvert_exporter": "python",
            "file_extension": ".py"
        },
        "kernelspec": {
            "name": "python3",
            "display_name": "Python 3.9.5 64-bit ('venv': venv)"
        },
        "interpreter": {
            "hash": "fc4a9d9affa748bb1f786cc84979bfe91eea1b7c59b9c21b42a95911b478140c"
        }
    },
    "nbformat": 4,
    "nbformat_minor": 2
}